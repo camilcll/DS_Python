{
 "cells": [
  {
   "cell_type": "markdown",
   "metadata": {},
   "source": [
    "# CAMIL COULLON 3IRC"
   ]
  },
  {
   "cell_type": "markdown",
   "metadata": {},
   "source": [
    "# Devoir Python\n",
    "\n",
    "Vous devez rendre votre devoir sur GitHub.\n",
    "Vous avez le droit a tout vos documents et a internet\n",
    "\n",
    "1. votre depot doit etre privé\n",
    "2. vous devez inviter comme colaborateur votre chargé de TD/TP\n",
    "3. Seul le dernier commit avant la fin de la séance sera corrigé.\n"
   ]
  },
  {
   "cell_type": "markdown",
   "metadata": {},
   "source": [
    "Ex 1: Integrale de Romberg\n",
    "\n",
    "Ecrire une fonction integ_romberg(f, a, b, epsilon=1e-6) permettant de calculer l’intégrale numérique de la fonction f entre les bornes a et b avec une précision epsilon selon la méthode de Romberg (https://fr.wikipedia.org/wiki/M%C3%A9thode_de_Romberg).\n",
    "\n",
    "Il s’agit d’une méthode qui permet d’améliorer les méthodes usuelles de calcul numérique des intégrales, comme la méthode des Trapèzes.\n",
    "On montre qu’en combinant judicieusement les valeurs obtenues par la méthode des Trapèzes pour différentes subdivisons de l’intervalle d’intégration, on augmente l’ordre de convergence (sa vitesse de convergence). \n"
   ]
  },
  {
   "cell_type": "code",
   "execution_count": 21,
   "metadata": {},
   "outputs": [
    {
     "name": "stdout",
     "output_type": "stream",
     "text": [
      "[1.999994]\n",
      "[2]\n"
     ]
    }
   ],
   "source": [
    "def iteration(n_eval,N,a,h,f,S,I_last,I,p):\n",
    "        n_eval += N #stock le nombre d'iterations\n",
    "        x = a+h*0.5\n",
    "        somme = f(x) #initialise la somme à f(a+h*0.5)\n",
    "        for k in range(N-1): #on somme toute les valeurs de f(a+h*0.5+h)\n",
    "            x += h\n",
    "            somme += f(x)\n",
    "        #on incrémente et on réinitialise certaines valeurs avant de faire une nouvelle itération\n",
    "        N *= 2\n",
    "        p += 1\n",
    "        S += somme\n",
    "        h *= 0.5\n",
    "        I_last = I\n",
    "        I = h*S   \n",
    "\n",
    "def integ_romberg(f,a,b,epsilon=0.000006):\n",
    "    p=0\n",
    "    N=1\n",
    "    S=0.5*(f(a)+f(b)) #premier somme (initialisation)\n",
    "    h=(b-a) #h represente l'intervale de a à b\n",
    "    I=S*h #on multiplie pour avoir une premiere estimation selon la methodes des trapèzes\n",
    "    I_last=I\n",
    "    n_eval = 0\n",
    "    iteration(n_eval,N,a,h,f,S,I_last,I,p) #on fait une premiere itération\n",
    "    Itab = [I]\n",
    "    htab = [h]\n",
    "    while abs(I-I_last)>epsilon: #on parcours tant que l'erreur(I-Ilast)> précision\n",
    "        iteration(n_eval,N,a,h,f,S,I_last,I,p)#on itère par récurrence\n",
    "        Itab.append(I)#on ajout dans le tableau\n",
    "        htab.append(h)\n",
    "    return (numpy.array(htab),numpy.array(Itab))\n",
    "\n",
    "   \n",
    "import numpy\n",
    "def f(x):\n",
    "    return x**2\n",
    "\n",
    "(h,I) = integ_romberg(f,-1,1)\n",
    "print(I-0.000006) # on print avec I - précision\n",
    "print(h)\n"
   ]
  },
  {
   "cell_type": "markdown",
   "metadata": {},
   "source": [
    "Ex 2: Équation d’état de l’eau à partir de la dynamique moléculaire\n",
    "\n",
    "Afin de modéliser les planètes de type Jupiter, Saturne, ou même des exo-planètes très massives (dites « super-Jupiters »), la connaissance de l’équation d’état des composants est nécessaire. Ces équations d’état doivent être valables jusqu’à plusieurs centaines de méga-bar ; autrement dit, celles-ci ne sont en aucun cas accessibles expérimentalement. On peut cependant obtenir une équation d’état numériquement à partir d’une dynamique moléculaire.\n",
    "\n",
    "Le principe est le suivant : on place dans une boite un certain nombre de particules régies par les équations microscopiques (Newton par exemple, ou même par des équations prenant en considération la mécanique quantique) puis on laisse celles-ci évoluer dans la boite ; on calcule à chaque pas de temps l’énergie interne à partir des intéractions électrostatiques et la pression à partir du tenseur des contraintes. On obtient en sortie l’évolution du système pour une densité fixée (par le choix de taille de la boite) et une température fixée (par un algorithme de thermostat que nous ne détaillerons pas ici).\n",
    "\n",
    "On se propose d’analyser quelques fichiers de sortie de tels calculs pour l’équation d’état de l’eau à très haute pression. Les fichiers de sortie sont disponibles ici; leur nom indique les conditions thermodynamiques correspondant au fichier, p.ex. 6000K_30gcc.out pour T=6000\n",
    "K et ρ=30 gcc. Le but est, pour chaque condition température-densité, d’extraire l’évolution de l’énergie et de la pression au cours du temps, puis d’en extraire la valeur moyenne ainsi que les fluctuations. Il arrive souvent que l’état initial choisi pour le système ne corresponde pas à son état d’équilibre, et qu’il faille donc « jeter » les quelques pas de temps en début de simulation qui correspondent à cette relaxation du système. Pour savoir combien de temps prend cette relaxation, il sera utile de tracer l’évolution au cours du temps de la pression et l’énergie pour quelques simulations. Une fois l’équation d’état P(ρ,T) et E(ρ,T) extraite, on pourra tracer le réseau d’isothermes."
   ]
  },
  {
   "cell_type": "code",
   "execution_count": 71,
   "metadata": {
    "scrolled": false
   },
   "outputs": [
    {
     "data": {
      "image/png": "[encoded data removed]",
      "text/plain": [
       "<Figure size 432x288 with 1 Axes>"
      ]
     },
     "metadata": {
      "needs_background": "light"
     },
     "output_type": "display_data"
    }
   ],
   "source": [
    "#def pression(dens,T):\n",
    "from matplotlib.pyplot import *\n",
    "import numpy as np\n",
    " \n",
    "# il faudrait faire un for gobale qui parcours la liste des fichiers dans le repertoire outputs et ensuite pour \n",
    "# chaque fichier faire le code suivant:\n",
    "#par manque de temps le for golabale n'est pas fait\n",
    "\n",
    "file = open('outputs/6000K_07gcc.out', 'r') #ouvre un fichier en lecture\n",
    "Lines = file.readlines() #on stocke un tableau de lignes dans Lines\n",
    "  \n",
    "sommeEnergie,sommePression = 0,0 #instancie les sommes\n",
    "\n",
    "i = 0 #on stock le nombre de lignes par fichiers\n",
    "tabpression = []\n",
    "tabenergie = []\n",
    "for i in range(10,len(Lines)-10): #on parcours chaque lignes en jetant les 10 premiers et 10 derniers pas de simulation \n",
    "    line = Lines[i].split(\"\\t\") #pour chaque lignes on coupe la chaine au tabulation\n",
    "    pression = line[4] # 4ieme valeur du tableau = pression \n",
    "    energie = line[2] # 2ieme valeur du tableau = energie\n",
    "    tabenergie.append(float(energie))\n",
    "    pression = pression.replace(\"\\n\",\"\")\n",
    "    tabpression.append(float(pression))\n",
    "    sommeEnergie += float(energie)\n",
    "    sommePression += float(pression)\n",
    "    #print(\"pression:\"+pression)\n",
    "    #print(\"energie:\"+energie)\n",
    "\n",
    "moyenneEnergie = sommeEnergie/(i-1)\n",
    "moyennePression = sommePression/(i-1)\n",
    "#print(\"Moypression:\",moyennePression)\n",
    "#print(\"Moyenergie:\",moyenneEnergie)\n",
    "\n",
    "#print(tabenergie)\n",
    "i = np.arange(i)\n",
    "plot(i,tabpression,\"o\")\n",
    "#plot(i,tabenergie,\"o\")\n",
    "xlabel(\"$temps$\",fontsize=18)\n",
    "ylabel(\"$Energie$\",fontsize=18)\n",
    "grid()\n",
    "    \n",
    "    "
   ]
  },
  {
   "cell_type": "markdown",
   "metadata": {},
   "source": [
    "Ex 3: Le problème du voyageur de commerce\n",
    "\n",
    "Le problème du voyageur de commerce est un problème d’optimisation consistant à déterminer le plus court chemin reliant un ensemble de destinations. Il n’existe pas d’algorithme donnant la solution optimale en un temps raisonnable (problème NP-complet), mais l’on peut chercher à déterminer des solutions approchées. On va se placer ici dans le cas d’un livreur devant desservir une seule fois chacune desndestinations d’une ville américaine où les rues sont agencées en réseau carré. \n",
    "\n",
    "On utilise la « distance deManhattan »  entre deux points 𝐴(𝑥𝐴,𝑦𝐴) et 𝐵(𝑥𝐵,𝑦𝐵) : 𝑑(𝐴,𝐵) =|𝑥𝐵−𝑥𝐴|+|𝑦𝐵−𝑦𝐴|.\n",
    "\n",
    "En outre, on se place dans le cas où les coordonnées des destinations sont entières, comprises entre 0 (inclus) et TAILLE = 50 (exclus). Deux destinations peuvent éventuellement avoir les mêmes coordonnées. Les instructions suivantes doivent permettre de définir les classes nécessaires (Ville et Trajet) et de développer un algorithme approché (heuristiques) : l’algorithme du plus proche voisin. \n",
    "\n",
    "Seules la librairie standard et la librairie numpy sont utilisables si nécessaire. Implementer les classes et methodes suivante:\n",
    "\n",
    "\n",
    "Classe Ville:\n",
    "* __init__(): initialisation d’une ville sans destination.\n",
    "* aleatoire(n): création de n destinations aléatoires.\n",
    "* nb_trajet(): retourne le nombre total (entier) de trajets :(𝑛−1)!/2(utilisermath.factorial()).\n",
    "* distance(i, j): retourne la distance (Manhattan) entre les deux destinations de numéro i et j\n",
    "\n",
    "\n",
    "Classe Trajet:\n",
    "* __init__(ville, etapes=None): initialisation sur une ville. Si la liste etapes n’est pas spécifiée, le trajet par défaut est celui suivant les destinations de ville.\n",
    "* longueur(): retourne la longueur totale du trajetbouclé(i.e. revenant à son point de départ).\n",
    "\n",
    "\n",
    "Plus proche voisin:\n",
    "* Ville.plus_proche(i, exclus=[]): retourne la destination la plus proche de la destinationi(au sens de Ville.distance()), hors les destinations de la liste exclus\n",
    "* Ville.trajet_voisins(depart=0): retourne un Trajet déterminé selon l’heuristique des plus proches voisins (i.e. l’étape suivante est la destination la plus proche hors les destinations déjà visitées) en partant de l’étape initiale depart\n",
    "\n",
    "Optimisation:\n",
    "* Proposer un algorithme qui propose une meilleur alternative au \"plus proche voisin\".\n",
    "\n",
    "Interface:\n",
    "* Ville.figure(trajet=None): Afficher le plande la ville et le trajet obtenue (utiliser matplotlib.step()pour des trajets de type « Manhattan »)"
   ]
  },
  {
   "cell_type": "code",
   "execution_count": null,
   "metadata": {},
   "outputs": [],
   "source": []
  }
 ],
 "metadata": {
  "kernelspec": {
   "display_name": "Python 3",
   "language": "python",
   "name": "python3"
  },
  "language_info": {
   "codemirror_mode": {
    "name": "ipython",
    "version": 3
   },
   "file_extension": ".py",
   "mimetype": "text/x-python",
   "name": "python",
   "nbconvert_exporter": "python",
   "pygments_lexer": "ipython3",
   "version": "3.7.0"
  }
 },
 "nbformat": 4,
 "nbformat_minor": 4
}
